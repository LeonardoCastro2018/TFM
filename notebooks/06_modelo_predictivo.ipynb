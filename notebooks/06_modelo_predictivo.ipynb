{
 "cells": [
  {
   "cell_type": "code",
   "execution_count": 1,
   "metadata": {},
   "outputs": [
    {
     "name": "stderr",
     "output_type": "stream",
     "text": [
      "<>:11: SyntaxWarning: invalid escape sequence '\\M'\n",
      "<>:11: SyntaxWarning: invalid escape sequence '\\M'\n",
      "C:\\Users\\Usuario\\AppData\\Local\\Temp\\ipykernel_4108\\509243760.py:11: SyntaxWarning: invalid escape sequence '\\M'\n",
      "  ruta = \"C:/Users/Usuario/OneDrive/Documentos/Cursos/Sport Data Campus\\Master en Python Avanzado al deporte/Modulo 11/Proyecto Final/Data/eventos_copa_america/eventos_copa_america_2024.csv\"\n",
      "C:\\Users\\Usuario\\AppData\\Local\\Temp\\ipykernel_4108\\509243760.py:31: FutureWarning: Downcasting object dtype arrays on .fillna, .ffill, .bfill is deprecated and will change in a future version. Call result.infer_objects(copy=False) instead. To opt-in to the future behavior, set `pd.set_option('future.no_silent_downcasting', True)`\n",
      "  X['under_pressure'] = tiros['under_pressure'].fillna(False).astype(int)\n"
     ]
    },
    {
     "name": "stdout",
     "output_type": "stream",
     "text": [
      "\n",
      "Reporte de clasificación:\n",
      "              precision    recall  f1-score   support\n",
      "\n",
      "           0       0.47      0.38      0.42        21\n",
      "           1       0.45      0.62      0.52        45\n",
      "           2       0.32      0.21      0.25        38\n",
      "\n",
      "    accuracy                           0.42       104\n",
      "   macro avg       0.41      0.40      0.40       104\n",
      "weighted avg       0.41      0.42      0.40       104\n",
      "\n"
     ]
    },
    {
     "data": {
      "image/png": "[encoded data removed]",
      "text/plain": [
       "<Figure size 600x400 with 2 Axes>"
      ]
     },
     "metadata": {},
     "output_type": "display_data"
    }
   ],
   "source": [
    "# 06_modelo_predictivo.ipynb\n",
    "\n",
    "import pandas as pd\n",
    "from sklearn.model_selection import train_test_split\n",
    "from sklearn.ensemble import RandomForestClassifier\n",
    "from sklearn.metrics import classification_report, confusion_matrix\n",
    "import matplotlib.pyplot as plt\n",
    "import seaborn as sns\n",
    "\n",
    "# Cargar el dataset completo\n",
    "ruta = \"C:/Users/Usuario/OneDrive/Documentos/Cursos/Sport Data Campus\\Master en Python Avanzado al deporte/Modulo 11/Proyecto Final/Data/eventos_copa_america/eventos_copa_america_2024.csv\"\n",
    "df = pd.read_csv(ruta, low_memory=False)\n",
    "\n",
    "# -----------------------------\n",
    "# Preparar dataset para clasificación de resultado de tiro\n",
    "# -----------------------------\n",
    "# Usamos solo eventos de tipo \"Shot\"\n",
    "tiros = df[df['type'] == 'Shot'].copy()\n",
    "\n",
    "# Convertir etiquetas (resultado del tiro)\n",
    "tiros['shot_outcome'].value_counts()\n",
    "\n",
    "# Solo conservar clases principales (Gol, Atajado, Fuera)\n",
    "clases_utiles = ['Goal', 'Saved', 'Off T']\n",
    "tiros = tiros[tiros['shot_outcome'].isin(clases_utiles)]\n",
    "\n",
    "# Features seleccionadas (coordenadas, cuerpo, tipo de disparo, etc.)\n",
    "X = pd.DataFrame()\n",
    "X['x'] = tiros['location'].apply(lambda loc: eval(loc)[0] if isinstance(loc, str) and ',' in loc else None)\n",
    "X['y'] = tiros['location'].apply(lambda loc: eval(loc)[1] if isinstance(loc, str) and ',' in loc else None)\n",
    "X['under_pressure'] = tiros['under_pressure'].fillna(False).astype(int)\n",
    "X['technique'] = tiros['shot_technique'].astype('category').cat.codes\n",
    "X['body_part'] = tiros['shot_body_part'].astype('category').cat.codes\n",
    "\n",
    "# Variable objetivo\n",
    "y = tiros['shot_outcome'].astype('category').cat.codes\n",
    "\n",
    "# -----------------------------\n",
    "# Entrenamiento del modelo\n",
    "# -----------------------------\n",
    "X_train, X_test, y_train, y_test = train_test_split(X, y, test_size=0.2, random_state=42)\n",
    "\n",
    "modelo = RandomForestClassifier(n_estimators=100, random_state=42)\n",
    "modelo.fit(X_train, y_train)\n",
    "\n",
    "# -----------------------------\n",
    "# Evaluación del modelo\n",
    "# -----------------------------\n",
    "y_pred = modelo.predict(X_test)\n",
    "print(\"\\nReporte de clasificación:\")\n",
    "print(classification_report(y_test, y_pred))\n",
    "\n",
    "# Matriz de confusión\n",
    "cm = confusion_matrix(y_test, y_pred)\n",
    "plt.figure(figsize=(6, 4))\n",
    "sns.heatmap(cm, annot=True, fmt='d', cmap='Blues')\n",
    "plt.title('Matriz de Confusión')\n",
    "plt.xlabel('Predicción')\n",
    "plt.ylabel('Real')\n",
    "plt.tight_layout()\n",
    "plt.show()\n"
   ]
  }
 ],
 "metadata": {
  "kernelspec": {
   "display_name": "Python 3",
   "language": "python",
   "name": "python3"
  },
  "language_info": {
   "codemirror_mode": {
    "name": "ipython",
    "version": 3
   },
   "file_extension": ".py",
   "mimetype": "text/x-python",
   "name": "python",
   "nbconvert_exporter": "python",
   "pygments_lexer": "ipython3",
   "version": "3.12.4"
  }
 },
 "nbformat": 4,
 "nbformat_minor": 2
}
