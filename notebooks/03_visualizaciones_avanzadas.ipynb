{
 "cells": [
  {
   "cell_type": "code",
   "execution_count": 2,
   "metadata": {},
   "outputs": [
    {
     "name": "stderr",
     "output_type": "stream",
     "text": [
      "<>:4: SyntaxWarning: invalid escape sequence '\\M'\n",
      "<>:4: SyntaxWarning: invalid escape sequence '\\M'\n",
      "C:\\Users\\Usuario\\AppData\\Local\\Temp\\ipykernel_22044\\120636505.py:4: SyntaxWarning: invalid escape sequence '\\M'\n",
      "  df = pd.read_csv(\"C:/Users/Usuario/OneDrive/Documentos/Cursos/Sport Data Campus\\Master en Python Avanzado al deporte/Modulo 11/Proyecto Final/Data/eventos_copa_america/metricas_por_equipo.csv\")\n"
     ]
    },
    {
     "data": {
      "text/plain": [
       "['team',\n",
       " '50/50',\n",
       " 'Bad Behaviour',\n",
       " 'Ball Receipt*',\n",
       " 'Ball Recovery',\n",
       " 'Block',\n",
       " 'Carry',\n",
       " 'Clearance',\n",
       " 'Dispossessed',\n",
       " 'Dribble',\n",
       " 'Dribbled Past',\n",
       " 'Duel',\n",
       " 'Error',\n",
       " 'Foul Committed',\n",
       " 'Foul Won',\n",
       " 'Goal Keeper',\n",
       " 'Half End',\n",
       " 'Half Start',\n",
       " 'Injury Stoppage',\n",
       " 'Interception',\n",
       " 'Miscontrol',\n",
       " 'Offside',\n",
       " 'Own Goal Against',\n",
       " 'Own Goal For',\n",
       " 'Pass',\n",
       " 'Player Off',\n",
       " 'Player On',\n",
       " 'Pressure',\n",
       " 'Referee Ball-Drop',\n",
       " 'Shield',\n",
       " 'Shot',\n",
       " 'Starting XI',\n",
       " 'Substitution',\n",
       " 'Tactical Shift']"
      ]
     },
     "execution_count": 2,
     "metadata": {},
     "output_type": "execute_result"
    }
   ],
   "source": [
    "import pandas as pd\n",
    "\n",
    "# Cargar el archivo\n",
    "df = pd.read_csv(\"C:/Users/Usuario/OneDrive/Documentos/Cursos/Sport Data Campus\\Master en Python Avanzado al deporte/Modulo 11/Proyecto Final/Data/eventos_copa_america/metricas_por_equipo.csv\")\n",
    "\n",
    "# Listar las columnas/métricas disponibles\n",
    "columnas_disponibles = df.columns.tolist()\n",
    "columnas_disponibles\n"
   ]
  }
 ],
 "metadata": {
  "kernelspec": {
   "display_name": "Python 3",
   "language": "python",
   "name": "python3"
  },
  "language_info": {
   "codemirror_mode": {
    "name": "ipython",
    "version": 3
   },
   "file_extension": ".py",
   "mimetype": "text/x-python",
   "name": "python",
   "nbconvert_exporter": "python",
   "pygments_lexer": "ipython3",
   "version": "3.12.4"
  }
 },
 "nbformat": 4,
 "nbformat_minor": 2
}
